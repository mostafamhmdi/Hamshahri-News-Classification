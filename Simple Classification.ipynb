{
 "cells": [
  {
   "cell_type": "markdown",
   "id": "a1d16ac9",
   "metadata": {},
   "source": [
    "In this notebook I wanna use simple methods such as tfidf or word count. I also use ML models and LSTM."
   ]
  },
  {
   "cell_type": "code",
   "execution_count": 1,
   "id": "771d3bc6",
   "metadata": {},
   "outputs": [],
   "source": [
    "import pandas as pd\n",
    "import numpy as np\n",
    "import matplotlib.pyplot as plt\n",
    "import seaborn as sns\n",
    "from sklearn.model_selection import train_test_split\n",
    "from sklearn.feature_extraction.text import CountVectorizer\n",
    "from sklearn.feature_extraction.text import TfidfVectorizer\n",
    "from sklearn.naive_bayes import MultinomialNB\n",
    "from sklearn.tree import DecisionTreeClassifier\n",
    "from sklearn.svm import SVC\n",
    "import tensorflow as tf\n",
    "from tensorflow.keras.preprocessing.text import Tokenizer\n",
    "from tensorflow.keras.preprocessing.sequence import pad_sequences\n",
    "from tensorflow.keras.models import Sequential\n",
    "from tensorflow.keras.layers import Embedding, LSTM, Dense, Dropout\n",
    "from tensorflow.keras.optimizers import Adam\n",
    "from tensorflow.keras import layers\n",
    "from sklearn.preprocessing import LabelBinarizer\n",
    "from sklearn.metrics import classification_report, confusion_matrix\n",
    "\n",
    "import warnings\n",
    "warnings.filterwarnings(action='ignore')"
   ]
  },
  {
   "cell_type": "code",
   "execution_count": 2,
   "id": "52136d4f",
   "metadata": {},
   "outputs": [],
   "source": [
    "df=pd.read_csv(r'final_train.csv')"
   ]
  },
  {
   "cell_type": "code",
   "execution_count": 3,
   "id": "5711c149",
   "metadata": {},
   "outputs": [
    {
     "data": {
      "text/html": [
       "<div>\n",
       "<style scoped>\n",
       "    .dataframe tbody tr th:only-of-type {\n",
       "        vertical-align: middle;\n",
       "    }\n",
       "\n",
       "    .dataframe tbody tr th {\n",
       "        vertical-align: top;\n",
       "    }\n",
       "\n",
       "    .dataframe thead th {\n",
       "        text-align: right;\n",
       "    }\n",
       "</style>\n",
       "<table border=\"1\" class=\"dataframe\">\n",
       "  <thead>\n",
       "    <tr style=\"text-align: right;\">\n",
       "      <th></th>\n",
       "      <th>text</th>\n",
       "      <th>class</th>\n",
       "      <th>PP_Text_2</th>\n",
       "      <th>length</th>\n",
       "      <th>num_tokens</th>\n",
       "    </tr>\n",
       "  </thead>\n",
       "  <tbody>\n",
       "    <tr>\n",
       "      <th>0</th>\n",
       "      <td>\\nاز سوي كميسيون ماده 10 \\nاحزابكارگزاران سازن...</td>\n",
       "      <td>Politics</td>\n",
       "      <td>کمیسیون ماده ۱۰ احزابکارگزاران سازندگی مجوز فع...</td>\n",
       "      <td>344</td>\n",
       "      <td>56</td>\n",
       "    </tr>\n",
       "    <tr>\n",
       "      <th>1</th>\n",
       "      <td>\\nخصوصي سازي كارخانه هاي چاي سال آينده \\nآغاز ...</td>\n",
       "      <td>Economy</td>\n",
       "      <td>خصوصی کارخانه چای آینده آغاز مدیرعامل سازمان چ...</td>\n",
       "      <td>687</td>\n",
       "      <td>113</td>\n",
       "    </tr>\n",
       "    <tr>\n",
       "      <th>2</th>\n",
       "      <td>\\nتوضيح يك مطلب \\nسوم بهمن ماه امسال گزارش طرح...</td>\n",
       "      <td>Science and Culture</td>\n",
       "      <td>توضیح مطلب بهمن ماه امسال گزارش طرح بررسی شناس...</td>\n",
       "      <td>1120</td>\n",
       "      <td>196</td>\n",
       "    </tr>\n",
       "    <tr>\n",
       "      <th>3</th>\n",
       "      <td>\\nبهاي گازوئيل و بنزين در \\nفرانسه افزايش يافت...</td>\n",
       "      <td>Economy</td>\n",
       "      <td>بهای گازوئیل بنزین فرانسه افزایش پاریس خبرگزار...</td>\n",
       "      <td>396</td>\n",
       "      <td>70</td>\n",
       "    </tr>\n",
       "    <tr>\n",
       "      <th>4</th>\n",
       "      <td>\\nرئيس سازمان حج و زيارت اعلام كرد \\n شهريور 1...</td>\n",
       "      <td>Science and Culture</td>\n",
       "      <td>رئیس سازمان حج زیارت اعلام شهریور ۱۶ زمان ثبت ...</td>\n",
       "      <td>495</td>\n",
       "      <td>95</td>\n",
       "    </tr>\n",
       "  </tbody>\n",
       "</table>\n",
       "</div>"
      ],
      "text/plain": [
       "                                                text                class  \\\n",
       "0  \\nاز سوي كميسيون ماده 10 \\nاحزابكارگزاران سازن...             Politics   \n",
       "1  \\nخصوصي سازي كارخانه هاي چاي سال آينده \\nآغاز ...              Economy   \n",
       "2  \\nتوضيح يك مطلب \\nسوم بهمن ماه امسال گزارش طرح...  Science and Culture   \n",
       "3  \\nبهاي گازوئيل و بنزين در \\nفرانسه افزايش يافت...              Economy   \n",
       "4  \\nرئيس سازمان حج و زيارت اعلام كرد \\n شهريور 1...  Science and Culture   \n",
       "\n",
       "                                           PP_Text_2  length  num_tokens  \n",
       "0  کمیسیون ماده ۱۰ احزابکارگزاران سازندگی مجوز فع...     344          56  \n",
       "1  خصوصی کارخانه چای آینده آغاز مدیرعامل سازمان چ...     687         113  \n",
       "2  توضیح مطلب بهمن ماه امسال گزارش طرح بررسی شناس...    1120         196  \n",
       "3  بهای گازوئیل بنزین فرانسه افزایش پاریس خبرگزار...     396          70  \n",
       "4  رئیس سازمان حج زیارت اعلام شهریور ۱۶ زمان ثبت ...     495          95  "
      ]
     },
     "execution_count": 3,
     "metadata": {},
     "output_type": "execute_result"
    }
   ],
   "source": [
    "df.head(5)"
   ]
  },
  {
   "cell_type": "code",
   "execution_count": 4,
   "id": "af362773",
   "metadata": {},
   "outputs": [
    {
     "data": {
      "text/plain": [
       "'جلسه علنی دیروز اصلاحیه قانون صدا سیما مسکوت مان طرح جامع رئیس مجلس طرح تحقیق تفحص صداوسیما امروز مجلس مطرح گروه سیاسی طرح الحاق ماده تبصره قانون اساسنامه سازمان صداوسیما جمهوری اسلام ایران دیروز جلسه علنی مجلس درخواست کمیسیون فرهنگ تصویب نمایندگان مجلس شورا اسلام ماه مسکوت مان فوریت طرح امضا ۲۵ تن نمایندگان رسیده نوزدهم فروردین ماه قید فوریت تقدیم مجلس فوریت تصویب نمایندگان ماده امضاءکنندگان طرح خواستار افزودن قانون اساسنامه سازمان صداوسیما جمهوری اسلام ایران مصوب ۱۳۶۲ چنانچه برنامه صداوسیما اعم تولید گزارش خبر قالب مختلف تصویر نمایش شبکه محل المللی اطلاعیه صادره سازمان مطالب مشتمل توهین افترا خلاف واقع اعم حقیقی یاحقوقی هرنحوی اظهارات اشخاص تحریف درخواست ذینفع سازمان صداوسیما مکلف توضیحات پاسخ ذینفع مشروط برآنکه متضمن توهین افترا تاحداکثر دوبرابرمدت زمان مطلب اصل حداکثرساعت ۲۴ دریافت جوابیه دره زمان برنامه اولیه مجانی خواست مسکوت ماندن طرح کمیسیون فرهنگ ارائه طرح کمیسیون قانون اداره صدا سیما جلسه علنی دیروز مجلس لایحه اعاده شورا نگهبان مطرح اصلاح آنهابرای تامین شورا عمل لایحه موافقتنامه دولت جمهوری اسلام ایران دولت فدراسیون روسیه جمهوری اسلام پاکستان جمهوری عرب سوریه اوکراین جمهوری سوسیالیستی دموکراتیک سریلانکا وقطر اجتناب اخذ مالیات مضاعف جلوگیری فرار مالی مالیات درآمد سرمایه تقدیم مجلس شورا اسلام درادامه جلسه لایحه الحاق دولت جمهوری اسلام ایران کنوانسیون سازمان کنفرانس اسلام جهت مبارزه تروریسم الملل شورا نگهبان بازگشت مطرح توجه اصرار مجلس مصوبه لایحه تکلیف نهایی مجمع تشخیص مصلحت نظام فرست دراین جلسه کلیات لایحه اصلاح مواد قانون مالیات مستقیم بررسی تصویب نمایندگان مجلس شورا اسلام گذر مجلس شورا اسلام امروز جلسه علنی دیروز رئیس مجلس شورا اسلام اعلام طرح تحقیق تفحص صدا سیما جلسه علنی روز شنبه مجلس مطرح کروبی پاسخ تذکرآیین نامه هادی نماینده مردم محلات دلیجان درمورد مطرح نشدن طرح تحقیق تفحص صدا سیما اظهار دلیل اصل مطرح نشدن طرح تعطیلیهای رسم'"
      ]
     },
     "execution_count": 4,
     "metadata": {},
     "output_type": "execute_result"
    }
   ],
   "source": [
    "df['PP_Text_2'][1684]"
   ]
  },
  {
   "cell_type": "code",
   "execution_count": 5,
   "id": "69dd9863",
   "metadata": {},
   "outputs": [
    {
     "data": {
      "text/plain": [
       "text           0\n",
       "class          0\n",
       "PP_Text_2     11\n",
       "length         0\n",
       "num_tokens     0\n",
       "dtype: int64"
      ]
     },
     "execution_count": 5,
     "metadata": {},
     "output_type": "execute_result"
    }
   ],
   "source": [
    "df.isna().sum()"
   ]
  },
  {
   "cell_type": "code",
   "execution_count": 6,
   "id": "d1906ce0",
   "metadata": {},
   "outputs": [],
   "source": [
    "hf=df[df['PP_Text_2'].isnull()==True]"
   ]
  },
  {
   "cell_type": "code",
   "execution_count": 7,
   "id": "472981a9",
   "metadata": {},
   "outputs": [
    {
     "data": {
      "text/html": [
       "<div>\n",
       "<style scoped>\n",
       "    .dataframe tbody tr th:only-of-type {\n",
       "        vertical-align: middle;\n",
       "    }\n",
       "\n",
       "    .dataframe tbody tr th {\n",
       "        vertical-align: top;\n",
       "    }\n",
       "\n",
       "    .dataframe thead th {\n",
       "        text-align: right;\n",
       "    }\n",
       "</style>\n",
       "<table border=\"1\" class=\"dataframe\">\n",
       "  <thead>\n",
       "    <tr style=\"text-align: right;\">\n",
       "      <th></th>\n",
       "      <th>text</th>\n",
       "      <th>class</th>\n",
       "      <th>PP_Text_2</th>\n",
       "      <th>length</th>\n",
       "      <th>num_tokens</th>\n",
       "    </tr>\n",
       "  </thead>\n",
       "  <tbody>\n",
       "    <tr>\n",
       "      <th>16896</th>\n",
       "      <td>\\nاست. \\n</td>\n",
       "      <td>Science and Culture</td>\n",
       "      <td>NaN</td>\n",
       "      <td>0</td>\n",
       "      <td>0</td>\n",
       "    </tr>\n",
       "    <tr>\n",
       "      <th>23627</th>\n",
       "      <td>\\nشد. \\n</td>\n",
       "      <td>Economy</td>\n",
       "      <td>NaN</td>\n",
       "      <td>0</td>\n",
       "      <td>0</td>\n",
       "    </tr>\n",
       "    <tr>\n",
       "      <th>24823</th>\n",
       "      <td>\\nاست. \\n</td>\n",
       "      <td>Social</td>\n",
       "      <td>NaN</td>\n",
       "      <td>0</td>\n",
       "      <td>0</td>\n",
       "    </tr>\n",
       "    <tr>\n",
       "      <th>27631</th>\n",
       "      <td>\\nبود. \\n</td>\n",
       "      <td>Sport</td>\n",
       "      <td>NaN</td>\n",
       "      <td>0</td>\n",
       "      <td>0</td>\n",
       "    </tr>\n",
       "    <tr>\n",
       "      <th>28157</th>\n",
       "      <td>\\nبود. \\n</td>\n",
       "      <td>Politics</td>\n",
       "      <td>NaN</td>\n",
       "      <td>0</td>\n",
       "      <td>0</td>\n",
       "    </tr>\n",
       "    <tr>\n",
       "      <th>29374</th>\n",
       "      <td>\\nمي گرفت. \\n</td>\n",
       "      <td>Economy</td>\n",
       "      <td>NaN</td>\n",
       "      <td>0</td>\n",
       "      <td>0</td>\n",
       "    </tr>\n",
       "    <tr>\n",
       "      <th>29456</th>\n",
       "      <td>\\nدارد! \\n</td>\n",
       "      <td>Sport</td>\n",
       "      <td>NaN</td>\n",
       "      <td>0</td>\n",
       "      <td>0</td>\n",
       "    </tr>\n",
       "    <tr>\n",
       "      <th>30025</th>\n",
       "      <td>\\nاست. \\n</td>\n",
       "      <td>Economy</td>\n",
       "      <td>NaN</td>\n",
       "      <td>0</td>\n",
       "      <td>0</td>\n",
       "    </tr>\n",
       "    <tr>\n",
       "      <th>32949</th>\n",
       "      <td>\\n؟ باشند\\n</td>\n",
       "      <td>Sport</td>\n",
       "      <td>NaN</td>\n",
       "      <td>0</td>\n",
       "      <td>0</td>\n",
       "    </tr>\n",
       "    <tr>\n",
       "      <th>41194</th>\n",
       "      <td>\\nنداشت!!! \\n</td>\n",
       "      <td>Sport</td>\n",
       "      <td>NaN</td>\n",
       "      <td>0</td>\n",
       "      <td>0</td>\n",
       "    </tr>\n",
       "    <tr>\n",
       "      <th>56461</th>\n",
       "      <td>\\nبود. \\n</td>\n",
       "      <td>Sport</td>\n",
       "      <td>NaN</td>\n",
       "      <td>0</td>\n",
       "      <td>0</td>\n",
       "    </tr>\n",
       "  </tbody>\n",
       "</table>\n",
       "</div>"
      ],
      "text/plain": [
       "                text                class PP_Text_2  length  num_tokens\n",
       "16896      \\nاست. \\n  Science and Culture       NaN       0           0\n",
       "23627       \\nشد. \\n              Economy       NaN       0           0\n",
       "24823      \\nاست. \\n               Social       NaN       0           0\n",
       "27631      \\nبود. \\n                Sport       NaN       0           0\n",
       "28157      \\nبود. \\n             Politics       NaN       0           0\n",
       "29374  \\nمي گرفت. \\n              Economy       NaN       0           0\n",
       "29456     \\nدارد! \\n                Sport       NaN       0           0\n",
       "30025      \\nاست. \\n              Economy       NaN       0           0\n",
       "32949    \\n؟ باشند\\n                Sport       NaN       0           0\n",
       "41194  \\nنداشت!!! \\n                Sport       NaN       0           0\n",
       "56461      \\nبود. \\n                Sport       NaN       0           0"
      ]
     },
     "execution_count": 7,
     "metadata": {},
     "output_type": "execute_result"
    }
   ],
   "source": [
    "hf"
   ]
  },
  {
   "cell_type": "code",
   "execution_count": 8,
   "id": "a05d6e3e",
   "metadata": {},
   "outputs": [],
   "source": [
    "df.dropna(axis=0,inplace=True)"
   ]
  },
  {
   "cell_type": "code",
   "execution_count": null,
   "id": "0c821346",
   "metadata": {},
   "outputs": [],
   "source": []
  },
  {
   "cell_type": "code",
   "execution_count": null,
   "id": "7a5234c3",
   "metadata": {},
   "outputs": [],
   "source": []
  },
  {
   "cell_type": "code",
   "execution_count": null,
   "id": "a37238c1",
   "metadata": {},
   "outputs": [],
   "source": []
  },
  {
   "cell_type": "markdown",
   "id": "529ac130",
   "metadata": {},
   "source": [
    "# CountVectorizer Model"
   ]
  },
  {
   "cell_type": "code",
   "execution_count": 32,
   "id": "b928e974",
   "metadata": {},
   "outputs": [],
   "source": [
    "X_train, X_val, y_train, y_val = train_test_split(df['PP_Text_2'], df['class'], test_size=0.2, random_state=42)\n",
    "\n",
    "\n",
    "count_vec = CountVectorizer()\n",
    "count_vec_train = count_vec.fit_transform(X_train)\n",
    "count_vec_val = count_vec.transform(X_val)\n"
   ]
  },
  {
   "cell_type": "code",
   "execution_count": 10,
   "id": "f210e70c",
   "metadata": {},
   "outputs": [
    {
     "name": "stdout",
     "output_type": "stream",
     "text": [
      "Train_X shape:  (47982, 210205)\n",
      "Validation_X shape:  (11996, 210205)\n"
     ]
    }
   ],
   "source": [
    "print(\"Train_X shape: \",count_vec_train.shape)\n",
    "print(\"Validation_X shape: \",count_vec_val.shape)"
   ]
  },
  {
   "cell_type": "code",
   "execution_count": 33,
   "id": "f39e2635",
   "metadata": {},
   "outputs": [
    {
     "name": "stdout",
     "output_type": "stream",
     "text": [
      "Classification Report:\n",
      "                     precision    recall  f1-score   support\n",
      "\n",
      "            Economy       0.92      0.91      0.91      3173\n",
      "           Politics       0.83      0.90      0.87      3067\n",
      "Science and Culture       0.82      0.84      0.83      1814\n",
      "             Social       0.80      0.69      0.74      1422\n",
      "              Sport       0.99      0.97      0.98      2520\n",
      "\n",
      "           accuracy                           0.88     11996\n",
      "          macro avg       0.87      0.86      0.87     11996\n",
      "       weighted avg       0.88      0.88      0.88     11996\n",
      "\n",
      "Confusion Matrix:\n",
      " [[2872  187   61   43   10]\n",
      " [ 135 2760   81   80   11]\n",
      " [  48  141 1516  106    3]\n",
      " [  72  208  153  984    5]\n",
      " [   5   14   32   17 2452]]\n"
     ]
    }
   ],
   "source": [
    "classifier = MultinomialNB()\n",
    "classifier.fit(count_vec_train, y_train)\n",
    "\n",
    "y_pred = classifier.predict(count_vec_val)\n",
    "\n",
    "# Evaluate the model\n",
    "print(\"Classification Report:\")\n",
    "print(classification_report(y_val, y_pred))\n",
    "\n",
    "# Generate confusion matrix\n",
    "confusion = confusion_matrix(y_val, y_pred)\n",
    "print(\"Confusion Matrix:\\n\", confusion)"
   ]
  },
  {
   "cell_type": "code",
   "execution_count": 14,
   "id": "555269f3",
   "metadata": {},
   "outputs": [
    {
     "name": "stdout",
     "output_type": "stream",
     "text": [
      "Classification Report:\n",
      "                     precision    recall  f1-score   support\n",
      "\n",
      "            Economy       0.85      0.87      0.86      3173\n",
      "           Politics       0.83      0.83      0.83      3067\n",
      "Science and Culture       0.77      0.77      0.77      1814\n",
      "             Social       0.69      0.66      0.67      1422\n",
      "              Sport       0.97      0.97      0.97      2520\n",
      "\n",
      "           accuracy                           0.84     11996\n",
      "          macro avg       0.82      0.82      0.82     11996\n",
      "       weighted avg       0.84      0.84      0.84     11996\n",
      "\n",
      "Confusion Matrix:\n",
      " [[2763  226   83   89   12]\n",
      " [ 253 2551  101  136   26]\n",
      " [ 101  122 1397  170   24]\n",
      " [ 110  142  215  932   23]\n",
      " [  14   22   26   17 2441]]\n"
     ]
    }
   ],
   "source": [
    "DT=DecisionTreeClassifier()\n",
    "DT.fit(count_vec_train, y_train)\n",
    "\n",
    "y_pred_2 = DT.predict(count_vec_val)\n",
    "\n",
    "# Evaluate the model\n",
    "print(\"Classification Report:\")\n",
    "print(classification_report(y_val, y_pred_2))\n",
    "\n",
    "# Generate confusion matrix\n",
    "confusion = confusion_matrix(y_val, y_pred_2)\n",
    "print(\"Confusion Matrix:\\n\", confusion)"
   ]
  },
  {
   "cell_type": "code",
   "execution_count": 15,
   "id": "decb9502",
   "metadata": {},
   "outputs": [
    {
     "name": "stdout",
     "output_type": "stream",
     "text": [
      "Classification Report:\n",
      "                     precision    recall  f1-score   support\n",
      "\n",
      "            Economy       0.91      0.93      0.92      3173\n",
      "           Politics       0.88      0.89      0.88      3067\n",
      "Science and Culture       0.85      0.83      0.84      1814\n",
      "             Social       0.78      0.75      0.76      1422\n",
      "              Sport       0.98      0.98      0.98      2520\n",
      "\n",
      "           accuracy                           0.89     11996\n",
      "          macro avg       0.88      0.87      0.88     11996\n",
      "       weighted avg       0.89      0.89      0.89     11996\n",
      "\n",
      "Confusion Matrix:\n",
      " [[2953  132   40   44    4]\n",
      " [ 158 2724   62  111   12]\n",
      " [  47  101 1508  146   12]\n",
      " [  76  139  131 1065   11]\n",
      " [  13   16   27    5 2459]]\n"
     ]
    }
   ],
   "source": [
    "svm = SVC(kernel='linear')  \n",
    "\n",
    "\n",
    "svm.fit(count_vec_train, y_train)\n",
    "y_pred_3 = svm.predict(count_vec_val)\n",
    "\n",
    "print(\"Classification Report:\")\n",
    "print(classification_report(y_val, y_pred_3))\n",
    "\n",
    "# Generate confusion matrix\n",
    "confusion = confusion_matrix(y_val, y_pred_3)\n",
    "print(\"Confusion Matrix:\\n\", confusion)"
   ]
  },
  {
   "cell_type": "code",
   "execution_count": null,
   "id": "51f0250a",
   "metadata": {},
   "outputs": [],
   "source": []
  },
  {
   "cell_type": "code",
   "execution_count": null,
   "id": "4e7e7e93",
   "metadata": {},
   "outputs": [],
   "source": []
  },
  {
   "cell_type": "code",
   "execution_count": null,
   "id": "2b664d03",
   "metadata": {},
   "outputs": [],
   "source": []
  },
  {
   "cell_type": "code",
   "execution_count": null,
   "id": "faf09385",
   "metadata": {},
   "outputs": [],
   "source": []
  },
  {
   "cell_type": "markdown",
   "id": "945611be",
   "metadata": {},
   "source": [
    "# Tfidf Model"
   ]
  },
  {
   "cell_type": "code",
   "execution_count": 16,
   "id": "bd6c331b",
   "metadata": {},
   "outputs": [],
   "source": [
    "tfidf = TfidfVectorizer()\n",
    "tfidf_train = tfidf.fit_transform(X_train)\n",
    "tfidf_val = tfidf.transform(X_val)"
   ]
  },
  {
   "cell_type": "code",
   "execution_count": 17,
   "id": "03c18cd6",
   "metadata": {},
   "outputs": [
    {
     "name": "stdout",
     "output_type": "stream",
     "text": [
      "Tfidf Train_X shape:  (47982, 210205)\n",
      "Tfidf Validation_X shape:  (11996, 210205)\n"
     ]
    }
   ],
   "source": [
    "print(\"Tfidf Train_X shape: \",tfidf_train.shape)\n",
    "print(\"Tfidf Validation_X shape: \",tfidf_val.shape)"
   ]
  },
  {
   "cell_type": "code",
   "execution_count": 18,
   "id": "fbf1cc8c",
   "metadata": {},
   "outputs": [
    {
     "name": "stdout",
     "output_type": "stream",
     "text": [
      "Classification Report:\n",
      "                     precision    recall  f1-score   support\n",
      "\n",
      "            Economy       0.87      0.91      0.89      3173\n",
      "           Politics       0.67      0.94      0.78      3067\n",
      "Science and Culture       0.83      0.71      0.77      1814\n",
      "             Social       0.91      0.22      0.35      1422\n",
      "              Sport       0.99      0.96      0.98      2520\n",
      "\n",
      "           accuracy                           0.82     11996\n",
      "          macro avg       0.85      0.75      0.75     11996\n",
      "       weighted avg       0.84      0.82      0.80     11996\n",
      "\n",
      "Confusion Matrix:\n",
      " [[2899  244   23    1    6]\n",
      " [ 143 2873   38    1   12]\n",
      " [ 116  374 1293   26    5]\n",
      " [ 158  772  174  310    8]\n",
      " [  13   49   26    1 2431]]\n"
     ]
    }
   ],
   "source": [
    "classifier = MultinomialNB()\n",
    "classifier.fit(tfidf_train, y_train)\n",
    "\n",
    "y_pred = classifier.predict(tfidf_val)\n",
    "\n",
    "# Evaluate the model\n",
    "print(\"Classification Report:\")\n",
    "print(classification_report(y_val, y_pred))\n",
    "\n",
    "# Generate confusion matrix\n",
    "confusion = confusion_matrix(y_val, y_pred)\n",
    "print(\"Confusion Matrix:\\n\", confusion)"
   ]
  },
  {
   "cell_type": "code",
   "execution_count": 19,
   "id": "056fd04c",
   "metadata": {},
   "outputs": [
    {
     "name": "stdout",
     "output_type": "stream",
     "text": [
      "Classification Report:\n",
      "                     precision    recall  f1-score   support\n",
      "\n",
      "            Economy       0.86      0.87      0.87      3173\n",
      "           Politics       0.82      0.82      0.82      3067\n",
      "Science and Culture       0.76      0.78      0.77      1814\n",
      "             Social       0.69      0.67      0.68      1422\n",
      "              Sport       0.97      0.97      0.97      2520\n",
      "\n",
      "           accuracy                           0.84     11996\n",
      "          macro avg       0.82      0.82      0.82     11996\n",
      "       weighted avg       0.84      0.84      0.84     11996\n",
      "\n",
      "Confusion Matrix:\n",
      " [[2754  239   90   78   12]\n",
      " [ 241 2526  124  158   18]\n",
      " [  77  135 1406  168   28]\n",
      " [  97  160  193  947   25]\n",
      " [  17   14   31   25 2433]]\n"
     ]
    }
   ],
   "source": [
    "DT=DecisionTreeClassifier()\n",
    "DT.fit(tfidf_train, y_train)\n",
    "\n",
    "y_pred_2 = DT.predict(tfidf_val)\n",
    "\n",
    "# Evaluate the model\n",
    "print(\"Classification Report:\")\n",
    "print(classification_report(y_val, y_pred_2))\n",
    "\n",
    "# Generate confusion matrix\n",
    "confusion = confusion_matrix(y_val, y_pred_2)\n",
    "print(\"Confusion Matrix:\\n\", confusion)"
   ]
  },
  {
   "cell_type": "code",
   "execution_count": 20,
   "id": "993ed0fa",
   "metadata": {},
   "outputs": [
    {
     "name": "stdout",
     "output_type": "stream",
     "text": [
      "Classification Report:\n",
      "                     precision    recall  f1-score   support\n",
      "\n",
      "            Economy       0.94      0.96      0.95      3173\n",
      "           Politics       0.92      0.92      0.92      3067\n",
      "Science and Culture       0.88      0.90      0.89      1814\n",
      "             Social       0.86      0.81      0.83      1422\n",
      "              Sport       0.99      0.99      0.99      2520\n",
      "\n",
      "           accuracy                           0.93     11996\n",
      "          macro avg       0.92      0.91      0.92     11996\n",
      "       weighted avg       0.93      0.93      0.93     11996\n",
      "\n",
      "Confusion Matrix:\n",
      " [[3034   68   43   23    5]\n",
      " [ 108 2811   57   78   13]\n",
      " [  30   50 1637   89    8]\n",
      " [  50  106  110 1151    5]\n",
      " [   3    4   17    5 2491]]\n"
     ]
    }
   ],
   "source": [
    "svm = SVC(kernel='linear')  \n",
    "\n",
    "\n",
    "svm.fit(tfidf_train, y_train)\n",
    "y_pred_3 = svm.predict(tfidf_val)\n",
    "\n",
    "print(\"Classification Report:\")\n",
    "print(classification_report(y_val, y_pred_3))\n",
    "\n",
    "# Generate confusion matrix\n",
    "confusion = confusion_matrix(y_val, y_pred_3)\n",
    "print(\"Confusion Matrix:\\n\", confusion)"
   ]
  },
  {
   "cell_type": "code",
   "execution_count": null,
   "id": "fb397342",
   "metadata": {},
   "outputs": [],
   "source": []
  },
  {
   "cell_type": "code",
   "execution_count": null,
   "id": "b2fa0a8d",
   "metadata": {},
   "outputs": [],
   "source": []
  },
  {
   "cell_type": "code",
   "execution_count": null,
   "id": "20b04b8c",
   "metadata": {},
   "outputs": [],
   "source": []
  },
  {
   "cell_type": "markdown",
   "id": "ac196be4",
   "metadata": {},
   "source": [
    "# LSTM And Word Embedding"
   ]
  },
  {
   "cell_type": "code",
   "execution_count": 11,
   "id": "5886c5ff",
   "metadata": {},
   "outputs": [],
   "source": [
    "X = df['PP_Text_2']\n",
    "tokenizer = Tokenizer(num_words=20000)\n",
    "tokenizer.fit_on_texts(X)\n",
    "X=tokenizer.texts_to_sequences(X)\n",
    "X=pad_sequences(X,maxlen=100)"
   ]
  },
  {
   "cell_type": "code",
   "execution_count": 12,
   "id": "8207cafc",
   "metadata": {},
   "outputs": [],
   "source": [
    "labels = df['class'].values\n",
    "X_train, X_test, y_train, y_test = train_test_split(X, labels, test_size=0.2, random_state=42)\n",
    "\n",
    "label_binarizer = LabelBinarizer()\n",
    "y_train_cat = label_binarizer.fit_transform(y_train)\n",
    "y_test_cat = label_binarizer.transform(y_test)\n",
    "\n",
    "num_classes = 5  \n",
    "\n",
    "rnn_model = tf.keras.Sequential([\n",
    "    tf.keras.layers.Embedding(input_dim=20000, output_dim=32, input_shape=(X_train.shape[1],)),\n",
    "    tf.keras.layers.Bidirectional(tf.keras.layers.LSTM(128, return_sequences=True)),\n",
    "    tf.keras.layers.Bidirectional(tf.keras.layers.LSTM(128)),\n",
    "    tf.keras.layers.Dense(64, activation='relu'),\n",
    "    tf.keras.layers.Dense(num_classes, activation='softmax') \n",
    "])\n",
    "\n",
    "rnn_model.compile(loss='categorical_crossentropy',  \n",
    "                  optimizer=tf.keras.optimizers.Adam(1e-4),\n",
    "                  metrics=['accuracy'])\n",
    "\n",
    "# rnn_model.fit(X_train, y_train_cat, epochs=3,\n",
    "#               validation_data=(X_test, y_test_cat))"
   ]
  },
  {
   "cell_type": "code",
   "execution_count": 13,
   "id": "bd3d7beb",
   "metadata": {},
   "outputs": [
    {
     "name": "stdout",
     "output_type": "stream",
     "text": [
      "Epoch 1/5\n",
      "1500/1500 [==============================] - 441s 290ms/step - loss: 0.6950 - accuracy: 0.7139 - val_loss: 0.5072 - val_accuracy: 0.8110\n",
      "Epoch 2/5\n",
      "1500/1500 [==============================] - 433s 289ms/step - loss: 0.4082 - accuracy: 0.8536 - val_loss: 0.4350 - val_accuracy: 0.8481\n",
      "Epoch 3/5\n",
      "1500/1500 [==============================] - 433s 288ms/step - loss: 0.3193 - accuracy: 0.8931 - val_loss: 0.4130 - val_accuracy: 0.8580\n",
      "Epoch 4/5\n",
      "1500/1500 [==============================] - 436s 291ms/step - loss: 0.2636 - accuracy: 0.9141 - val_loss: 0.3950 - val_accuracy: 0.8673\n",
      "Epoch 5/5\n",
      "1500/1500 [==============================] - 438s 292ms/step - loss: 0.2209 - accuracy: 0.9303 - val_loss: 0.4281 - val_accuracy: 0.8665\n"
     ]
    },
    {
     "data": {
      "image/png": "[encoded data removed]",
      "text/plain": [
       "<Figure size 1200x500 with 2 Axes>"
      ]
     },
     "metadata": {},
     "output_type": "display_data"
    }
   ],
   "source": [
    "history = rnn_model.fit(X_train, y_train_cat, epochs=5,\n",
    "                        validation_data=(X_test, y_test_cat))\n",
    "\n",
    "# Extract training history\n",
    "train_loss = history.history['loss']\n",
    "val_loss = history.history['val_loss']\n",
    "train_acc = history.history['accuracy']\n",
    "val_acc = history.history['val_accuracy']\n",
    "epochs = range(1, len(train_loss) + 1)\n",
    "\n",
    "# Plot training and validation loss\n",
    "plt.figure(figsize=(12, 5))\n",
    "plt.subplot(1, 2, 1)\n",
    "plt.plot(epochs, train_loss, 'g', label='Training Loss')\n",
    "plt.plot(epochs, val_loss, 'b', label='Validation Loss')\n",
    "plt.title('Training and Validation Loss')\n",
    "plt.xlabel('Epochs')\n",
    "plt.ylabel('Loss')\n",
    "plt.legend()\n",
    "\n",
    "# Plot training and validation accuracy\n",
    "plt.subplot(1, 2, 2)\n",
    "plt.plot(epochs, train_acc, 'g', label='Training Accuracy')\n",
    "plt.plot(epochs, val_acc, 'b', label='Validation Accuracy')\n",
    "plt.title('Training and Validation Accuracy')\n",
    "plt.xlabel('Epochs')\n",
    "plt.ylabel('Accuracy')\n",
    "plt.legend()\n",
    "\n",
    "plt.tight_layout()\n",
    "plt.show()"
   ]
  },
  {
   "cell_type": "code",
   "execution_count": null,
   "id": "388decc1",
   "metadata": {},
   "outputs": [],
   "source": []
  },
  {
   "cell_type": "code",
   "execution_count": 48,
   "id": "d66b2860",
   "metadata": {},
   "outputs": [
    {
     "data": {
      "image/png": "[encoded data removed]",
      "text/plain": [
       "<Figure size 800x600 with 1 Axes>"
      ]
     },
     "metadata": {},
     "output_type": "display_data"
    }
   ],
   "source": [
    "import matplotlib.pyplot as plt\n",
    "\n",
    "data_dict = {\n",
    "    'NB CountVectorize': 0.88,\n",
    "    'DT CountVectorize': 0.84,\n",
    "    'SVM CountVectorize': 0.89,\n",
    "    'NB Tfidf': 0.82,\n",
    "    'DT Tfidf': 0.84,\n",
    "    'SVM Tfidf': 0.93,\n",
    "    'LSTM': 0.93\n",
    "}\n",
    "\n",
    "categories = list(data_dict.keys())\n",
    "values = list(data_dict.values())\n",
    "\n",
    "plt.figure(figsize=(8, 6))\n",
    "plt.bar(categories, values)\n",
    "plt.xlabel('Model')\n",
    "plt.ylabel('Accuracy')\n",
    "plt.xticks(rotation=90)\n",
    "\n",
    "# Label the bars with their corresponding accuracy values\n",
    "for i, value in enumerate(values):\n",
    "    plt.text(i, value + 0.01, str(value), ha='center', va='bottom', fontsize=10)\n",
    "\n",
    "plt.show()\n"
   ]
  },
  {
   "cell_type": "code",
   "execution_count": null,
   "id": "34c91e36",
   "metadata": {},
   "outputs": [],
   "source": []
  }
 ],
 "metadata": {
  "kernelspec": {
   "display_name": "Python 3 (ipykernel)",
   "language": "python",
   "name": "python3"
  },
  "language_info": {
   "codemirror_mode": {
    "name": "ipython",
    "version": 3
   },
   "file_extension": ".py",
   "mimetype": "text/x-python",
   "name": "python",
   "nbconvert_exporter": "python",
   "pygments_lexer": "ipython3",
   "version": "3.10.7"
  }
 },
 "nbformat": 4,
 "nbformat_minor": 5
}
